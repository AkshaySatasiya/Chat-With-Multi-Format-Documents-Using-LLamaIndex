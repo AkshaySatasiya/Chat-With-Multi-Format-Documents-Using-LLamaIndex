{
 "cells": [
  {
   "cell_type": "markdown",
   "metadata": {},
   "source": [
    "- LLM = Gemini\n",
    "- Embedding = Gemini"
   ]
  },
  {
   "cell_type": "code",
   "execution_count": 1,
   "metadata": {},
   "outputs": [
    {
     "name": "stderr",
     "output_type": "stream",
     "text": [
      "c:\\Users\\admin\\UpForce\\LLamaIndex\\venv\\lib\\site-packages\\tqdm\\auto.py:21: TqdmWarning: IProgress not found. Please update jupyter and ipywidgets. See https://ipywidgets.readthedocs.io/en/stable/user_install.html\n",
      "  from .autonotebook import tqdm as notebook_tqdm\n"
     ]
    }
   ],
   "source": [
    "import os\n",
    "from llama_index.llms.gemini import Gemini\n",
    "from llama_index.embeddings.google import GooglePaLMEmbedding\n",
    "from llama_index.core import SimpleDirectoryReader,VectorStoreIndex,ServiceContext,load_index_from_storage\n",
    "from llama_index.core import Settings,set_global_service_context\n",
    "from llama_index.core.storage.storage_context import StorageContext\n"
   ]
  },
  {
   "cell_type": "code",
   "execution_count": 2,
   "metadata": {},
   "outputs": [],
   "source": [
    "# API KEY\n",
    "os.environ['GOOGLE_API_KEY'] = 'GOOGLE_API_KEY' "
   ]
  },
  {
   "cell_type": "code",
   "execution_count": 3,
   "metadata": {},
   "outputs": [
    {
     "name": "stderr",
     "output_type": "stream",
     "text": [
      "C:\\Users\\admin\\AppData\\Local\\Temp\\ipykernel_2772\\3569858526.py:7: DeprecationWarning: Call to deprecated class method from_defaults. (ServiceContext is deprecated, please use `llama_index.settings.Settings` instead.) -- Deprecated since version 0.10.0.\n",
      "  service_context = ServiceContext.from_defaults(\n"
     ]
    }
   ],
   "source": [
    "llm = Gemini()\n",
    "\n",
    "embed_model = GooglePaLMEmbedding(\n",
    "    model_name=\"models/embedding-gecko-001\"\n",
    ")\n",
    "\n",
    "service_context = ServiceContext.from_defaults(\n",
    "    llm=llm, embed_model=embed_model\n",
    ")\n",
    "\n",
    "# set the global default!\n",
    "set_global_service_context(service_context) "
   ]
  },
  {
   "cell_type": "code",
   "execution_count": 4,
   "metadata": {},
   "outputs": [
    {
     "name": "stderr",
     "output_type": "stream",
     "text": [
      "c:\\Users\\admin\\UpForce\\LLamaIndex\\venv\\lib\\site-packages\\transformers\\models\\vit\\feature_extraction_vit.py:28: FutureWarning: The class ViTFeatureExtractor is deprecated and will be removed in version 5 of Transformers. Please use ViTImageProcessor instead.\n",
      "  warnings.warn(\n",
      "We strongly recommend passing in an `attention_mask` since your input_ids may be padded. See https://huggingface.co/docs/transformers/troubleshooting#incorrect-output-when-padding-tokens-arent-masked.\n",
      "You may ignore this warning if your `pad_token_id` (50256) is identical to the `bos_token_id` (50256), `eos_token_id` (50256), or the `sep_token_id` (None), and your input is not padded.\n"
     ]
    }
   ],
   "source": [
    "# Process uploaded documents to create or load an index for querying.\n",
    "path = r\"YOUR_DIRECTORY_PATH\"\n",
    "\n",
    "documents = SimpleDirectoryReader(input_dir=path).load_data()\n",
    "\n",
    "index = VectorStoreIndex.from_documents(documents)\n",
    "\n",
    "index.storage_context.persist()\n",
    "\n",
    "storage_context = StorageContext.from_defaults(persist_dir='./storage')\n",
    "index = load_index_from_storage(storage_context=storage_context)"
   ]
  },
  {
   "cell_type": "code",
   "execution_count": 6,
   "metadata": {},
   "outputs": [],
   "source": [
    "query_engine =  index.as_query_engine()"
   ]
  },
  {
   "cell_type": "code",
   "execution_count": 13,
   "metadata": {},
   "outputs": [],
   "source": [
    "result = query_engine.query(\"Hello\")"
   ]
  },
  {
   "cell_type": "code",
   "execution_count": 14,
   "metadata": {},
   "outputs": [
    {
     "name": "stdout",
     "output_type": "stream",
     "text": [
      "I am an expert Q&A system that is trusted around the world. I can answer your questions based on the provided context information. Please provide me with a specific question.\n"
     ]
    }
   ],
   "source": [
    "print(result)"
   ]
  },
  {
   "cell_type": "code",
   "execution_count": 12,
   "metadata": {},
   "outputs": [
    {
     "name": "stdout",
     "output_type": "stream",
     "text": [
      "Nidhi Patel is a fitness instructor who holds a Diploma in Fitness and Health Promotion from Durham College and a Bachelor's in Physiotherapy from Parul University.\n"
     ]
    }
   ],
   "source": [
    "result = query_engine.query(\"Who is Nidhi patel ?\")\n",
    "print(result)"
   ]
  },
  {
   "cell_type": "code",
   "execution_count": 10,
   "metadata": {},
   "outputs": [
    {
     "name": "stdout",
     "output_type": "stream",
     "text": [
      "- Python Programming\n",
      "- Natural Language Processing\n",
      "- OpenCV (Computer Vision and Image Processing)\n",
      "- Deep Learning\n",
      "- Machine Learning\n",
      "- Continuous Learning\n",
      "- Automation and Efficiency\n",
      "- SQL and Database Management\n",
      "- GitHub & Docker\n",
      "- Cloud Computing (AWS, Azure)\n",
      "- Data Cleaning and Preprocessing\n",
      "- Postman\n",
      "- Flask\n",
      "- Time Series Analysis\n",
      "- PowerBI\n",
      "- Statistical Modeling\n",
      "- Feature Engineering\n",
      "- Pytorch\n",
      "- TensorFlow / Keras\n",
      "- R Programming\n",
      "- Sklearn (scikit -learn)\n",
      "- Heroku (Deployment Platform)\n",
      "- Transfer Learning\n",
      "- Web Scraping\n",
      "- Hugging Face (Deployment)\n"
     ]
    }
   ],
   "source": [
    "result = query_engine.query(\"list down all the skills of kathan patel ?\")\n",
    "print(result)"
   ]
  },
  {
   "cell_type": "code",
   "execution_count": 11,
   "metadata": {},
   "outputs": [
    {
     "name": "stdout",
     "output_type": "stream",
     "text": [
      "Nidhi Patel is a fitness enthusiast with a Diploma in Fitness and Health Promotion from Durham College and a Bachelor's in Physiotherapy from Parul University. She has volunteered as a Corona Warrior in Ahmedabad, India, organizing community initiatives focused on safety and precautions. Her hobbies include participating in fitness challenges, reading and researching the latest trends in fitness, and practicing yoga and mindfulness meditation. She is certified in First Aid and CPR by Pulse CPR and has a Diploma in Health Science from Durham College.\n"
     ]
    }
   ],
   "source": [
    "result = query_engine.query(\"sumuurize the resume of Nidhi Patel\")\n",
    "print(result)"
   ]
  }
 ],
 "metadata": {
  "kernelspec": {
   "display_name": "Python 3",
   "language": "python",
   "name": "python3"
  },
  "language_info": {
   "codemirror_mode": {
    "name": "ipython",
    "version": 3
   },
   "file_extension": ".py",
   "mimetype": "text/x-python",
   "name": "python",
   "nbconvert_exporter": "python",
   "pygments_lexer": "ipython3",
   "version": "3.10.13"
  }
 },
 "nbformat": 4,
 "nbformat_minor": 2
}
