{
 "cells": [
  {
   "cell_type": "markdown",
   "metadata": {},
   "source": [
    "- LLM = OpenAI\n",
    "- Embedding = Gemini"
   ]
  },
  {
   "cell_type": "code",
   "execution_count": 1,
   "metadata": {},
   "outputs": [
    {
     "name": "stderr",
     "output_type": "stream",
     "text": [
      "c:\\Users\\admin\\UpForce\\LLamaIndex\\venv\\lib\\site-packages\\tqdm\\auto.py:21: TqdmWarning: IProgress not found. Please update jupyter and ipywidgets. See https://ipywidgets.readthedocs.io/en/stable/user_install.html\n",
      "  from .autonotebook import tqdm as notebook_tqdm\n"
     ]
    }
   ],
   "source": [
    "import os\n",
    "from llama_index.llms.openai import OpenAI\n",
    "from llama_index.embeddings.google import GooglePaLMEmbedding\n",
    "from llama_index.core import SimpleDirectoryReader,VectorStoreIndex,ServiceContext,load_index_from_storage\n",
    "from llama_index.core import Settings,set_global_service_context\n",
    "from llama_index.core.storage.storage_context import StorageContext\n"
   ]
  },
  {
   "cell_type": "code",
   "execution_count": 2,
   "metadata": {},
   "outputs": [],
   "source": [
    "# API KEY\n",
    "os.environ['GOOGLE_API_KEY'] = 'GOOGLE_API_KEY' \n",
    "os.environ['OPENAI_API_KEY'] = \"OPENAI_API_KEY\""
   ]
  },
  {
   "cell_type": "code",
   "execution_count": 3,
   "metadata": {},
   "outputs": [
    {
     "name": "stderr",
     "output_type": "stream",
     "text": [
      "C:\\Users\\admin\\AppData\\Local\\Temp\\ipykernel_18712\\3981245252.py:9: DeprecationWarning: Call to deprecated class method from_defaults. (ServiceContext is deprecated, please use `llama_index.settings.Settings` instead.) -- Deprecated since version 0.10.0.\n",
      "  service_context = ServiceContext.from_defaults(\n"
     ]
    }
   ],
   "source": [
    "#Chat Model\n",
    "llm = OpenAI(\"gpt-3.5-turbo\")\n",
    "\n",
    "#Embedding model\n",
    "embed_model = GooglePaLMEmbedding(\n",
    "    model_name=\"models/embedding-gecko-001\"\n",
    ")\n",
    "\n",
    "service_context = ServiceContext.from_defaults(\n",
    "    llm=llm, embed_model=embed_model\n",
    ")\n",
    "\n",
    "# set the global default!\n",
    "set_global_service_context(service_context) "
   ]
  },
  {
   "cell_type": "code",
   "execution_count": 5,
   "metadata": {},
   "outputs": [
    {
     "name": "stderr",
     "output_type": "stream",
     "text": [
      "c:\\Users\\admin\\UpForce\\LLamaIndex\\venv\\lib\\site-packages\\transformers\\models\\vit\\feature_extraction_vit.py:28: FutureWarning: The class ViTFeatureExtractor is deprecated and will be removed in version 5 of Transformers. Please use ViTImageProcessor instead.\n",
      "  warnings.warn(\n"
     ]
    }
   ],
   "source": [
    "# Process uploaded documents to create or load an index for querying.\n",
    "path = r\"YOUR_DIRECTORY_PATH\"\n",
    "\n",
    "documents = SimpleDirectoryReader(input_dir=path).load_data()\n",
    "\n",
    "index = VectorStoreIndex.from_documents(documents)\n",
    "\n",
    "index.storage_context.persist()\n",
    "\n",
    "storage_context = StorageContext.from_defaults(persist_dir='./storage')\n",
    "index = load_index_from_storage(storage_context=storage_context)"
   ]
  },
  {
   "cell_type": "code",
   "execution_count": 6,
   "metadata": {},
   "outputs": [],
   "source": [
    "query_engine =  index.as_query_engine()"
   ]
  },
  {
   "cell_type": "code",
   "execution_count": 7,
   "metadata": {},
   "outputs": [],
   "source": [
    "result = query_engine.query(\"hi\")"
   ]
  },
  {
   "cell_type": "code",
   "execution_count": 8,
   "metadata": {},
   "outputs": [
    {
     "name": "stdout",
     "output_type": "stream",
     "text": [
      "Hello! How can I assist you today?\n"
     ]
    }
   ],
   "source": [
    "print(result)"
   ]
  },
  {
   "cell_type": "code",
   "execution_count": 9,
   "metadata": {},
   "outputs": [],
   "source": [
    "result = query_engine.query(\"Who is nidhi patel ?\")"
   ]
  },
  {
   "cell_type": "code",
   "execution_count": 10,
   "metadata": {},
   "outputs": [
    {
     "name": "stdout",
     "output_type": "stream",
     "text": [
      "Nidhi Patel is a fitness instructor who holds a Diploma in Fitness and Health Promotion from Durham College and a Bachelor's in Physiotherapy from Parul University. She is also involved in community initiatives focusing on safety and precautions as a Volunteer Corona Warrior in Ahmedabad, India.\n"
     ]
    }
   ],
   "source": [
    "print(result)"
   ]
  },
  {
   "cell_type": "code",
   "execution_count": 11,
   "metadata": {},
   "outputs": [],
   "source": [
    "result = query_engine.query(\"list down all the skills of kathan patel ?\")"
   ]
  },
  {
   "cell_type": "code",
   "execution_count": 12,
   "metadata": {},
   "outputs": [
    {
     "name": "stdout",
     "output_type": "stream",
     "text": [
      "Technology Trends, Hugging Face (Deployment), Transfer Learning, Web Scraping, Heroku (Deployment Platform), Sklearn (scikit-learn), R Programming, Time Series Analysis, PowerBI, Statistical Modeling, Feature Engineering, Pytorch, TensorFlow / Keras, Data Cleaning and Preprocessing, Postman, Flask, SQL and Database Management, GitHub & Docker, Cloud Computing (AWS, Azure), Python Programming, Natural Language Processing, OpenCV (Computer Vision and Image Processing), Deep Learning, Machine Learning, Continuous Learning, Automation and Efficiency.\n"
     ]
    }
   ],
   "source": [
    "print(result)"
   ]
  },
  {
   "cell_type": "code",
   "execution_count": 15,
   "metadata": {},
   "outputs": [
    {
     "name": "stdout",
     "output_type": "stream",
     "text": [
      "Summarize the resume of Nidhi Patel: Nidhi Patel is a fitness enthusiast with a Diploma in Fitness and Health Promotion from Durham College and a Bachelor's in Physiotherapy from Parul University. She has a background in organizing community initiatives focusing on safety and precautions. Nidhi's hobbies include participating in fitness challenges, staying updated on fitness trends, practicing yoga, and mindfulness meditation. Additionally, she holds certificates in Health Science, First Aid, and CPR, and works as a Fitness Instructor.\n"
     ]
    }
   ],
   "source": [
    "result = query_engine.query(\"sumuurize the resume of Nidhi Patel\")\n",
    "print(result)"
   ]
  }
 ],
 "metadata": {
  "kernelspec": {
   "display_name": "Python 3",
   "language": "python",
   "name": "python3"
  },
  "language_info": {
   "codemirror_mode": {
    "name": "ipython",
    "version": 3
   },
   "file_extension": ".py",
   "mimetype": "text/x-python",
   "name": "python",
   "nbconvert_exporter": "python",
   "pygments_lexer": "ipython3",
   "version": "3.10.13"
  }
 },
 "nbformat": 4,
 "nbformat_minor": 2
}
