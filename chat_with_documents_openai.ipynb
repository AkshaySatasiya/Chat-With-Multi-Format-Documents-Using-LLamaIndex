{
 "cells": [
  {
   "cell_type": "markdown",
   "metadata": {},
   "source": [
    "- LLM = OpenAI\n",
    "- Embedding = Gemini"
   ]
  },
  {
   "cell_type": "code",
   "execution_count": 1,
   "metadata": {},
   "outputs": [],
   "source": [
    "import os\n",
    "from llama_index.llms.openai import OpenAI\n",
    "from llama_index.embeddings.openai import OpenAIEmbedding\n",
    "from llama_index.core import SimpleDirectoryReader,VectorStoreIndex,ServiceContext,load_index_from_storage\n",
    "from llama_index.core import Settings,set_global_service_context\n",
    "from llama_index.core.storage.storage_context import StorageContext"
   ]
  },
  {
   "cell_type": "code",
   "execution_count": 2,
   "metadata": {},
   "outputs": [],
   "source": [
    "# API KEY\n",
    "os.environ['OPENAI_API_KEY'] = \"OPENAI_API_KEY\""
   ]
  },
  {
   "cell_type": "code",
   "execution_count": 3,
   "metadata": {},
   "outputs": [
    {
     "name": "stderr",
     "output_type": "stream",
     "text": [
      "C:\\Users\\admin\\AppData\\Local\\Temp\\ipykernel_7472\\1219156927.py:7: DeprecationWarning: Call to deprecated class method from_defaults. (ServiceContext is deprecated, please use `llama_index.settings.Settings` instead.) -- Deprecated since version 0.10.0.\n",
      "  service_context = ServiceContext.from_defaults(\n"
     ]
    }
   ],
   "source": [
    "llm = OpenAI(\"gpt-3.5-turbo\")\n",
    "\n",
    "embed_model = OpenAIEmbedding(\n",
    "        model=\"text-embedding-3-small\"\n",
    "    )\n",
    "\n",
    "service_context = ServiceContext.from_defaults(\n",
    "    llm=llm, embed_model=embed_model\n",
    ")\n",
    "\n",
    "# set the global default!\n",
    "set_global_service_context(service_context) "
   ]
  },
  {
   "cell_type": "code",
   "execution_count": 4,
   "metadata": {},
   "outputs": [
    {
     "name": "stderr",
     "output_type": "stream",
     "text": [
      "c:\\Users\\admin\\UpForce\\LLamaIndex\\venv\\lib\\site-packages\\tqdm\\auto.py:21: TqdmWarning: IProgress not found. Please update jupyter and ipywidgets. See https://ipywidgets.readthedocs.io/en/stable/user_install.html\n",
      "  from .autonotebook import tqdm as notebook_tqdm\n",
      "c:\\Users\\admin\\UpForce\\LLamaIndex\\venv\\lib\\site-packages\\transformers\\models\\vit\\feature_extraction_vit.py:28: FutureWarning: The class ViTFeatureExtractor is deprecated and will be removed in version 5 of Transformers. Please use ViTImageProcessor instead.\n",
      "  warnings.warn(\n",
      "We strongly recommend passing in an `attention_mask` since your input_ids may be padded. See https://huggingface.co/docs/transformers/troubleshooting#incorrect-output-when-padding-tokens-arent-masked.\n",
      "You may ignore this warning if your `pad_token_id` (50256) is identical to the `bos_token_id` (50256), `eos_token_id` (50256), or the `sep_token_id` (None), and your input is not padded.\n"
     ]
    }
   ],
   "source": [
    "# Process uploaded documents to create or load an index for querying.\n",
    "path = r\"YOUR_DIRECTORY_PATH\"\n",
    "\n",
    "documents = SimpleDirectoryReader(input_dir=path).load_data()\n",
    "\n",
    "index = VectorStoreIndex.from_documents(documents)\n",
    "\n",
    "index.storage_context.persist()\n",
    "\n",
    "storage_context = StorageContext.from_defaults(persist_dir='./storage')\n",
    "index = load_index_from_storage(storage_context=storage_context)"
   ]
  },
  {
   "cell_type": "code",
   "execution_count": 6,
   "metadata": {},
   "outputs": [],
   "source": [
    "query_engine =  index.as_query_engine()"
   ]
  },
  {
   "cell_type": "code",
   "execution_count": 7,
   "metadata": {},
   "outputs": [],
   "source": [
    "result = query_engine.query(\"Hello\")"
   ]
  },
  {
   "cell_type": "code",
   "execution_count": 8,
   "metadata": {},
   "outputs": [
    {
     "name": "stdout",
     "output_type": "stream",
     "text": [
      "I'm here to help. How can I assist you today?\n"
     ]
    }
   ],
   "source": [
    "print(result)"
   ]
  },
  {
   "cell_type": "code",
   "execution_count": 9,
   "metadata": {},
   "outputs": [
    {
     "name": "stdout",
     "output_type": "stream",
     "text": [
      "Nidhi Patel is a Fitness Instructor with certifications in Health Science, First Aid, and CPR. She holds a Diploma in Fitness and Health Promotion from Durham College and a Bachelor's in Physiotherapy from Parul University. Nidhi is also involved in community initiatives focusing on safety and precautions.\n"
     ]
    }
   ],
   "source": [
    "result = query_engine.query(\"Who is Nidhi patel ?\")\n",
    "print(result)"
   ]
  },
  {
   "cell_type": "code",
   "execution_count": 13,
   "metadata": {},
   "outputs": [
    {
     "name": "stdout",
     "output_type": "stream",
     "text": [
      "- Technology Trends  \n",
      "- Hugging Face (Deployment)  \n",
      "- Transfer Learning  \n",
      "- Web Scraping  \n",
      "- Heroku (Deployment Platform)  \n",
      "- Sklearn (scikit-learn)  \n",
      "- R Programming  \n",
      "- Time Series Analysis  \n",
      "- PowerBI  \n",
      "- Statistical Modeling  \n",
      "- Feature Engineering  \n",
      "- Pytorch  \n",
      "- TensorFlow / Keras  \n",
      "- Data Cleaning and Preprocessing  \n",
      "- Postman  \n",
      "- Flask  \n",
      "- SQL and Database Management  \n",
      "- GitHub & Docker  \n",
      "- Cloud Computing (AWS, Azure)  \n",
      "- Python Programming  \n",
      "- Natural Language Processing  \n",
      "- OpenCV (Computer Vision and Image Processing)  \n",
      "- Deep Learning  \n",
      "- Machine Learning  \n",
      "- Continuous Learning  \n",
      "- Automation and Efficiency\n"
     ]
    }
   ],
   "source": [
    "result = query_engine.query(\"list down all the skills of kathan patel in bullet points?\")\n",
    "print(result)"
   ]
  },
  {
   "cell_type": "code",
   "execution_count": 12,
   "metadata": {},
   "outputs": [
    {
     "name": "stdout",
     "output_type": "stream",
     "text": [
      "Kathan Patel is a Data Science and AI/ML enthusiast with expertise in AI, NLP, and Computer Vision. He is experienced in applying advanced techniques like Deep Learning to extract meaningful patterns and trends from data. Kathan has worked as an AI Developer at InnoRadhya AI Solutions, where he automated Attendance Management System using Face Recognition, worked on Hair Diseases Classification using Transfer Learning, and Stock Price Prediction using Deep Learning. He also has experience as a Trainee Data Scientist at Nascent Info Technologies, where he completed projects in data analytics, machine learning, computer vision, and natural language processing. In his personal projects, Kathan developed a Chicken Disease Classification model using deep learning and a Boston House Price Prediction model using machine learning techniques. He has showcased skills in data preprocessing, model training, cloud deployment, and utilizing DevOps tools like GitHub, CI/CD, and Docker for project management and deployment.\n"
     ]
    }
   ],
   "source": [
    "result = query_engine.query(\"sumuurize the resume of Kathan Patel\")\n",
    "print(result)"
   ]
  }
 ],
 "metadata": {
  "kernelspec": {
   "display_name": "Python 3",
   "language": "python",
   "name": "python3"
  },
  "language_info": {
   "codemirror_mode": {
    "name": "ipython",
    "version": 3
   },
   "file_extension": ".py",
   "mimetype": "text/x-python",
   "name": "python",
   "nbconvert_exporter": "python",
   "pygments_lexer": "ipython3",
   "version": "3.10.13"
  }
 },
 "nbformat": 4,
 "nbformat_minor": 2
}
